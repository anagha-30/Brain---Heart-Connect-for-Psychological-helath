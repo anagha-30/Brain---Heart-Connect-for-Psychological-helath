{
 "cells": [
  {
   "cell_type": "code",
   "execution_count": 1,
   "id": "3e65be18",
   "metadata": {},
   "outputs": [],
   "source": [
    "import scipy.io as sio\n",
    "import numpy as np\n",
    "import pandas as pd"
   ]
  },
  {
   "cell_type": "code",
   "execution_count": 2,
   "id": "62d0bc74",
   "metadata": {},
   "outputs": [
    {
     "name": "stdout",
     "output_type": "stream",
     "text": [
      "   psdtheta_1  psdalpha_1  psdbeta_1  psdtheta_2  psdalpha_2  psdbeta_2  \\\n",
      "0   -0.137607   -0.137238  -0.116997   -0.080612   -0.081118  -0.108773   \n",
      "1   -0.139174   -0.138685  -0.117599   -0.096207   -0.096338  -0.110293   \n",
      "2   -0.127690   -0.127539  -0.110420   -0.101203   -0.101259  -0.098381   \n",
      "3   -0.158972   -0.158123  -0.131111   -0.100674   -0.100739  -0.097964   \n",
      "4   -0.110480   -0.110713  -0.099031   -0.111506   -0.111337  -0.089051   \n",
      "\n",
      "   psdtheta_3  psdalpha_3  psdbeta_3  psdtheta_4  ...  HRV_MSEn  HRV_CMSEn  \\\n",
      "0   -0.146683   -0.182929  -0.229771   -0.273779  ...  1.657431   1.232730   \n",
      "1   -0.119051   -0.104170  -0.091178   -0.132652  ...  1.418214   1.241727   \n",
      "2   -0.105765   -0.105699   0.042209   -0.162592  ...       inf   1.693895   \n",
      "3   -0.069629   -0.030775  -0.003793   -0.164088  ...  1.490003   1.107013   \n",
      "4    0.049651    0.050012   0.054975   -0.120093  ...  1.690474   1.175075   \n",
      "\n",
      "   HRV_RCMSEn    HRV_CD   HRV_HFD   HRV_KFD   HRV_LZC  Valence  Arousal  \\\n",
      "0    1.442880  0.984968  0.984604  1.352042  0.754370      1.0      0.0   \n",
      "1    1.876564  1.069919  1.028649  1.302686  1.465131      0.0      0.0   \n",
      "2    2.782783  0.914029  0.967951  1.162471  0.979849      1.0      1.0   \n",
      "3    1.168585  0.921742  1.034398  1.107257  0.801617      1.0      0.0   \n",
      "4    1.392625  1.146076  0.911846  1.145414  0.777037      1.0      1.0   \n",
      "\n",
      "   Dominance  \n",
      "0        0.0  \n",
      "1        0.0  \n",
      "2        1.0  \n",
      "3        0.0  \n",
      "4        1.0  \n",
      "\n",
      "[5 rows x 135 columns]\n"
     ]
    }
   ],
   "source": [
    "if __name__ ==\"__main__\":\n",
    "    path=u'DREAMER.mat'\n",
    "    path_EEG=\"EEG.csv\"\n",
    "    path_ECG=\"ECG.csv\"\n",
    "    data=sio.loadmat(path)\n",
    "    data_EEG=pd.read_csv(path_EEG).drop([\"Unnamed: 0\"],axis=1)\n",
    "    data_ECG=pd.read_csv(path_ECG).drop([\"Unnamed: 0\"],axis=1)\n",
    "    a=np.zeros((23,18,3))\n",
    "    for k in range(0,23):\n",
    "        for j in range(0,18):\n",
    "            if data['DREAMER'][0,0]['Data'][0,k]['ScoreValence'][0,0][j,0]<4:\n",
    "                a[k,j,0]=0\n",
    "            else:\n",
    "                a[k,j,0]=1\n",
    "            if data['DREAMER'][0,0]['Data'][0,k]['ScoreArousal'][0,0][j,0]<4:\n",
    "                a[k,j,1]=0\n",
    "            else:\n",
    "                a[k,j,1]=1\n",
    "            if data['DREAMER'][0,0]['Data'][0,k]['ScoreDominance'][0,0][j,0]<4:\n",
    "                a[k,j,2]=0\n",
    "            else:\n",
    "                a[k,j,2]=1\n",
    "    b=pd.DataFrame(a.reshape((23*18,a.shape[2])),columns=['Valence','Arousal','Dominance'])\n",
    "    feature=pd.concat([data_EEG,data_ECG,b],axis=1)\n",
    "    print(feature.head())\n",
    "    feature.to_csv(\"Feature.csv\")"
   ]
  },
  {
   "cell_type": "code",
   "execution_count": null,
   "id": "0a1b631f",
   "metadata": {},
   "outputs": [],
   "source": []
  }
 ],
 "metadata": {
  "kernelspec": {
   "display_name": "Python 3 (ipykernel)",
   "language": "python",
   "name": "python3"
  },
  "language_info": {
   "codemirror_mode": {
    "name": "ipython",
    "version": 3
   },
   "file_extension": ".py",
   "mimetype": "text/x-python",
   "name": "python",
   "nbconvert_exporter": "python",
   "pygments_lexer": "ipython3",
   "version": "3.10.5"
  }
 },
 "nbformat": 4,
 "nbformat_minor": 5
}
