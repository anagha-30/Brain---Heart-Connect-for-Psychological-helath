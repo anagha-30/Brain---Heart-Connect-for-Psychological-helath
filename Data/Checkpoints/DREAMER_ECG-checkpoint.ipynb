{
 "cells": [
  {
   "cell_type": "markdown",
   "id": "fcae7ae2",
   "metadata": {},
   "source": [
    "### The goal of this notebook is to generate the ECG features from the DREAMER dataset."
   ]
  },
  {
   "cell_type": "code",
   "execution_count": 12,
   "id": "cf5f363d",
   "metadata": {},
   "outputs": [],
   "source": [
    "import scipy.io as sio\n",
    "import pandas as pd\n",
    "from sklearn import preprocessing as pre\n",
    "import neurokit2 as nk\n",
    "import warnings\n",
    "warnings.filterwarnings('ignore')"
   ]
  },
  {
   "cell_type": "code",
   "execution_count": 13,
   "id": "cc81bcd0",
   "metadata": {},
   "outputs": [
    {
     "name": "stdout",
     "output_type": "stream",
     "text": [
      "ECG signals are being feature extracted...\n",
      "progress: 100%"
     ]
    }
   ],
   "source": [
    "if __name__ == '__main__':\n",
    "    # Create a counter to track the processing progress\n",
    "    total=0\n",
    "    path=r\"C:\\Users\\chari\\Downloads\\project\\EEG-ECG-Emotions\\Data\\DREAMER.mat\"\n",
    "    data=sio.loadmat(path)\n",
    "    print(\"ECG signals are being feature extracted...\")\n",
    "    # Create an empty dataframe ECG that will contain the features for all subjects and videos\n",
    "    ECG={}\n",
    "    for k in range(0,23):\n",
    "        for j in range(0,18):\n",
    "            # Load the data for the Baseline paradigm and for the Stimulus paradigm (Left)\n",
    "            basl_l=data['DREAMER'][0,0]['Data'][0,k]['ECG'][0,0]['baseline'][0,0][j,0][:,0]\n",
    "            stim_l=data['DREAMER'][0,0]['Data'][0,k]['ECG'][0,0]['stimuli'][0,0][j,0][:,0]\n",
    "            # Load the data for the Baseline paradigm and for the Stimulus paradigm (Right)\n",
    "            basl_r=data['DREAMER'][0,0]['Data'][0,k]['ECG'][0,0]['baseline'][0,0][j,0][:,1]\n",
    "            stim_r=data['DREAMER'][0,0]['Data'][0,k]['ECG'][0,0]['stimuli'][0,0][j,0][:,1]\n",
    "            \n",
    "            # Use the Neurokit2 ecg_process command for each paradigm with a sampling rate of 256 Hz\n",
    "            ecg_signals_b_l,info_b_l=nk.ecg_process(basl_l,sampling_rate=256)\n",
    "            ecg_signals_s_l,info_s_l=nk.ecg_process(stim_l,sampling_rate=256)\n",
    "            ecg_signals_b_r,info_b_r=nk.ecg_process(basl_r,sampling_rate=256)\n",
    "            ecg_signals_s_r,info_s_r=nk.ecg_process(stim_r,sampling_rate=256)\n",
    "         \n",
    "            # Use the Neurokit2 ecg_intervalrelated command to generate a dataframe of the features for Left and Right\n",
    "            processed_ecg_l=nk.ecg_intervalrelated(ecg_signals_s_l)/nk.ecg_intervalrelated(ecg_signals_b_l)\n",
    "            processed_ecg_r=nk.ecg_intervalrelated(ecg_signals_s_r)/nk.ecg_intervalrelated(ecg_signals_b_r)\n",
    "            # Average the Left and Right features\n",
    "            processed_ecg=(processed_ecg_l+processed_ecg_r)/2\n",
    "            # Fill in the ECG dataframe\n",
    "            if not len(ECG):\n",
    "                ECG=processed_ecg\n",
    "            else:\n",
    "                ECG=pd.concat([ECG,processed_ecg],ignore_index=True)\n",
    "            total+=1\n",
    "            print(\"\\rprogress: %d%%\" %(total/(23*18)*100),end=\"\")\n",
    "    # col=ECG.columns.values\n",
    "    # scaler=pre.StandardScaler()\n",
    "    # for i in range(len(col)):\n",
    "    #     ECG[col[i][:-3]] = scaler.fit_transform(ECG[[col[i]]])\n",
    "    # ECG.drop(col, axis=1, inplace=True)\n",
    "    # ECG.columns=col\n",
    "    # print(ECG)\n",
    "    ECG.to_csv(\"ECG.csv\")"
   ]
  },
  {
   "cell_type": "code",
   "execution_count": null,
   "id": "bd59c715",
   "metadata": {},
   "outputs": [],
   "source": []
  }
 ],
 "metadata": {
  "kernelspec": {
   "display_name": "Python 3 (ipykernel)",
   "language": "python",
   "name": "python3"
  },
  "language_info": {
   "codemirror_mode": {
    "name": "ipython",
    "version": 3
   },
   "file_extension": ".py",
   "mimetype": "text/x-python",
   "name": "python",
   "nbconvert_exporter": "python",
   "pygments_lexer": "ipython3",
   "version": "3.10.5"
  }
 },
 "nbformat": 4,
 "nbformat_minor": 5
}
